{
  "nbformat": 4,
  "nbformat_minor": 0,
  "metadata": {
    "colab": {
      "provenance": [],
      "authorship_tag": "ABX9TyMW4IpRJy8vceFdk8BBjxmj",
      "include_colab_link": true
    },
    "kernelspec": {
      "name": "python3",
      "display_name": "Python 3"
    },
    "language_info": {
      "name": "python"
    }
  },
  "cells": [
    {
      "cell_type": "markdown",
      "metadata": {
        "id": "view-in-github",
        "colab_type": "text"
      },
      "source": [
        "<a href=\"https://colab.research.google.com/github/AdamAshraffZamri/AdamAshraffZamri/blob/main/create_Workbook.ipynb\" target=\"_parent\"><img src=\"https://colab.research.google.com/assets/colab-badge.svg\" alt=\"Open In Colab\"/></a>"
      ]
    },
    {
      "cell_type": "code",
      "execution_count": 3,
      "metadata": {
        "colab": {
          "base_uri": "https://localhost:8080/"
        },
        "id": "OnCk4Y3ROO0P",
        "outputId": "aa172e06-5c9f-4a37-eff7-6c9618131df9"
      },
      "outputs": [
        {
          "output_type": "stream",
          "name": "stdout",
          "text": [
            "Mounted at /content/gdrive\n",
            "None\n"
          ]
        }
      ],
      "source": [
        "from openpyxl import Workbook\n",
        "from openpyxl.utils import get_column_letter\n",
        "\n",
        "from google.colab import drive\n",
        "drive.mount(\"/content/gdrive\")\n",
        "\n",
        "wb = Workbook()\n",
        "\n",
        "destination_filename = 'new_workbook.xlsx'\n",
        "\n",
        "ws = wb.active\n",
        "ws.title = \"New Active Workbook\"\n",
        "\n",
        "for row in range(1, 10):\n",
        "    ws.append(range(100))\n",
        "\n",
        "wssheet =  wb.create_sheet(title=\"Number Two\")\n",
        "\n",
        "wssheet['A5'] = 'some value here'\n",
        "\n",
        "wssheet['A5'].value\n",
        "wssheet['A5']\n",
        "ws['C3'].value\n",
        "\n",
        "another_worksheet = wb.create_sheet(title=\"Third Sheet\")\n",
        "for row in range(1, 5):\n",
        "  for col in range(2, 10):\n",
        "     _ = another_worksheet.cell(column = col,\n",
        "                             row=row,\n",
        "                             value=\"{0}\".format(get_column_letter(col)))\n",
        "print(another_worksheet['J1'].value)\n",
        "\n",
        "wb.save(\"/content/gdrive/My Drive/\" + destination_filename)"
      ]
    }
  ]
}